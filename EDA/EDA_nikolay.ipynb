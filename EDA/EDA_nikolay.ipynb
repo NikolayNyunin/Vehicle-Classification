{
 "cells": [
  {
   "metadata": {},
   "cell_type": "markdown",
   "source": [
    "# Загрузка и первичная обработка данных. EDA\n",
    "## Автор: Нюнин Николай\n",
    "### 1. Импорт необходимых библиотек"
   ],
   "id": "f9d776a1b2460335"
  },
  {
   "cell_type": "code",
   "id": "initial_id",
   "metadata": {
    "collapsed": true,
    "ExecuteTime": {
     "end_time": "2024-11-04T11:43:25.993609Z",
     "start_time": "2024-11-04T11:43:22.894221Z"
    }
   },
   "source": [
    "import os\n",
    "\n",
    "import pandas as pd\n",
    "from tqdm import tqdm\n",
    "import matplotlib.pyplot as plt"
   ],
   "outputs": [],
   "execution_count": 1
  },
  {
   "metadata": {},
   "cell_type": "markdown",
   "source": "### 2. Загрузка датасета",
   "id": "dc7eedec736483c5"
  },
  {
   "metadata": {
    "ExecuteTime": {
     "end_time": "2024-11-04T11:43:26.043606Z",
     "start_time": "2024-11-04T11:43:26.018606Z"
    }
   },
   "cell_type": "code",
   "source": [
    "# атрибуты моделей автомобилей\n",
    "attributes = pd.read_table('../data/CompCars/data/misc/attributes.txt', sep=' ')\n",
    "attributes.head()"
   ],
   "id": "307b8026e66179df",
   "outputs": [
    {
     "data": {
      "text/plain": [
       "   model_id  maximum_speed  displacement  door_number  seat_number  type\n",
       "0         1            235           1.8            5            5     4\n",
       "1         2            220           1.8            4            5     3\n",
       "2         3            228           2.0            4            5     3\n",
       "3         4            230           2.0            5            5     2\n",
       "4         5            234           3.0            5            5     2"
      ],
      "text/html": [
       "<div>\n",
       "<style scoped>\n",
       "    .dataframe tbody tr th:only-of-type {\n",
       "        vertical-align: middle;\n",
       "    }\n",
       "\n",
       "    .dataframe tbody tr th {\n",
       "        vertical-align: top;\n",
       "    }\n",
       "\n",
       "    .dataframe thead th {\n",
       "        text-align: right;\n",
       "    }\n",
       "</style>\n",
       "<table border=\"1\" class=\"dataframe\">\n",
       "  <thead>\n",
       "    <tr style=\"text-align: right;\">\n",
       "      <th></th>\n",
       "      <th>model_id</th>\n",
       "      <th>maximum_speed</th>\n",
       "      <th>displacement</th>\n",
       "      <th>door_number</th>\n",
       "      <th>seat_number</th>\n",
       "      <th>type</th>\n",
       "    </tr>\n",
       "  </thead>\n",
       "  <tbody>\n",
       "    <tr>\n",
       "      <th>0</th>\n",
       "      <td>1</td>\n",
       "      <td>235</td>\n",
       "      <td>1.8</td>\n",
       "      <td>5</td>\n",
       "      <td>5</td>\n",
       "      <td>4</td>\n",
       "    </tr>\n",
       "    <tr>\n",
       "      <th>1</th>\n",
       "      <td>2</td>\n",
       "      <td>220</td>\n",
       "      <td>1.8</td>\n",
       "      <td>4</td>\n",
       "      <td>5</td>\n",
       "      <td>3</td>\n",
       "    </tr>\n",
       "    <tr>\n",
       "      <th>2</th>\n",
       "      <td>3</td>\n",
       "      <td>228</td>\n",
       "      <td>2.0</td>\n",
       "      <td>4</td>\n",
       "      <td>5</td>\n",
       "      <td>3</td>\n",
       "    </tr>\n",
       "    <tr>\n",
       "      <th>3</th>\n",
       "      <td>4</td>\n",
       "      <td>230</td>\n",
       "      <td>2.0</td>\n",
       "      <td>5</td>\n",
       "      <td>5</td>\n",
       "      <td>2</td>\n",
       "    </tr>\n",
       "    <tr>\n",
       "      <th>4</th>\n",
       "      <td>5</td>\n",
       "      <td>234</td>\n",
       "      <td>3.0</td>\n",
       "      <td>5</td>\n",
       "      <td>5</td>\n",
       "      <td>2</td>\n",
       "    </tr>\n",
       "  </tbody>\n",
       "</table>\n",
       "</div>"
      ]
     },
     "execution_count": 2,
     "metadata": {},
     "output_type": "execute_result"
    }
   ],
   "execution_count": 2
  },
  {
   "metadata": {
    "ExecuteTime": {
     "end_time": "2024-11-04T11:43:26.695359Z",
     "start_time": "2024-11-04T11:43:26.685618Z"
    }
   },
   "cell_type": "code",
   "source": [
    "models_and_types = attributes.drop(['maximum_speed', 'displacement', 'door_number', 'seat_number'], axis=1)\n",
    "models_and_types.set_index('model_id', inplace=True)\n",
    "models_and_types.head()"
   ],
   "id": "8abaf7c23ddf64b2",
   "outputs": [
    {
     "data": {
      "text/plain": [
       "          type\n",
       "model_id      \n",
       "1            4\n",
       "2            3\n",
       "3            3\n",
       "4            2\n",
       "5            2"
      ],
      "text/html": [
       "<div>\n",
       "<style scoped>\n",
       "    .dataframe tbody tr th:only-of-type {\n",
       "        vertical-align: middle;\n",
       "    }\n",
       "\n",
       "    .dataframe tbody tr th {\n",
       "        vertical-align: top;\n",
       "    }\n",
       "\n",
       "    .dataframe thead th {\n",
       "        text-align: right;\n",
       "    }\n",
       "</style>\n",
       "<table border=\"1\" class=\"dataframe\">\n",
       "  <thead>\n",
       "    <tr style=\"text-align: right;\">\n",
       "      <th></th>\n",
       "      <th>type</th>\n",
       "    </tr>\n",
       "    <tr>\n",
       "      <th>model_id</th>\n",
       "      <th></th>\n",
       "    </tr>\n",
       "  </thead>\n",
       "  <tbody>\n",
       "    <tr>\n",
       "      <th>1</th>\n",
       "      <td>4</td>\n",
       "    </tr>\n",
       "    <tr>\n",
       "      <th>2</th>\n",
       "      <td>3</td>\n",
       "    </tr>\n",
       "    <tr>\n",
       "      <th>3</th>\n",
       "      <td>3</td>\n",
       "    </tr>\n",
       "    <tr>\n",
       "      <th>4</th>\n",
       "      <td>2</td>\n",
       "    </tr>\n",
       "    <tr>\n",
       "      <th>5</th>\n",
       "      <td>2</td>\n",
       "    </tr>\n",
       "  </tbody>\n",
       "</table>\n",
       "</div>"
      ]
     },
     "execution_count": 3,
     "metadata": {},
     "output_type": "execute_result"
    }
   ],
   "execution_count": 3
  },
  {
   "metadata": {
    "ExecuteTime": {
     "end_time": "2024-11-04T11:43:26.831909Z",
     "start_time": "2024-11-04T11:43:26.810064Z"
    }
   },
   "cell_type": "code",
   "source": [
    "# словарь для получения типа автомобиля по его модели\n",
    "MODEL_TO_TYPE = models_and_types.to_dict('index')"
   ],
   "id": "4b5ccaf7d0acce0f",
   "outputs": [],
   "execution_count": 4
  },
  {
   "metadata": {
    "ExecuteTime": {
     "end_time": "2024-11-04T11:43:27.066521Z",
     "start_time": "2024-11-04T11:43:27.062490Z"
    }
   },
   "cell_type": "code",
   "source": [
    "def type_from_model(model_id: int) -> int:\n",
    "    \"\"\"Получить id типа автомобиля по его id модели.\"\"\"\n",
    "\n",
    "    return MODEL_TO_TYPE[model_id]['type']"
   ],
   "id": "84491eedc3ee78ee",
   "outputs": [],
   "execution_count": 5
  },
  {
   "metadata": {
    "ExecuteTime": {
     "end_time": "2024-11-04T11:43:27.301718Z",
     "start_time": "2024-11-04T11:43:27.294244Z"
    }
   },
   "cell_type": "code",
   "source": [
    "def load_dataset() -> pd.DataFrame:\n",
    "    \"\"\"Загрузить датасет.\"\"\"\n",
    "\n",
    "    rows = []\n",
    "\n",
    "    images_path = '..\\\\data\\\\CompCars\\\\data\\\\image'  # путь до изображений\n",
    "    for dirpath, _, filenames in tqdm(os.walk(images_path)):\n",
    "        for filename in filenames:\n",
    "            model_id = int(dirpath.split('\\\\')[-2])\n",
    "            label_path = os.path.join(dirpath.replace('image', 'label'), filename.replace('jpg', 'txt'))\n",
    "            with open(label_path) as label_file:\n",
    "                x1, y1, x2, y2 = [int(coord) for coord in label_file.readlines()[2].split()]\n",
    "            rows.append({\n",
    "                'file_path': os.path.join(dirpath, filename),\n",
    "                'x1': x1,\n",
    "                'y1': y1,\n",
    "                'x2': x2,\n",
    "                'y2': y2,\n",
    "                'type': type_from_model(model_id)\n",
    "            })\n",
    "\n",
    "    return pd.DataFrame(rows)"
   ],
   "id": "7f0e7de37599c18f",
   "outputs": [],
   "execution_count": 6
  },
  {
   "metadata": {
    "ExecuteTime": {
     "end_time": "2024-11-04T11:44:00.261491Z",
     "start_time": "2024-11-04T11:43:27.375536Z"
    }
   },
   "cell_type": "code",
   "source": [
    "# загрузка датасета\n",
    "df = load_dataset()"
   ],
   "id": "f6263c576149d7b8",
   "outputs": [
    {
     "name": "stderr",
     "output_type": "stream",
     "text": [
      "6335it [00:32, 194.40it/s]\n"
     ]
    }
   ],
   "execution_count": 7
  },
  {
   "metadata": {},
   "cell_type": "markdown",
   "source": "### 3. Обработка типов кузова автомобилей",
   "id": "c422d1652337a748"
  },
  {
   "metadata": {
    "ExecuteTime": {
     "end_time": "2024-11-04T11:44:00.276945Z",
     "start_time": "2024-11-04T11:44:00.273489Z"
    }
   },
   "cell_type": "code",
   "source": [
    "# оригинальные названия типов автомобилей\n",
    "OLD_TYPE_NAMES = ['MPV', 'SUV', 'sedan', 'hatchback', 'minibus', 'fastback', 'estate', 'pickup', 'hardtop convertible', 'sports', 'crossover', 'convertible']"
   ],
   "id": "ff8c453c4b373000",
   "outputs": [],
   "execution_count": 8
  },
  {
   "metadata": {
    "ExecuteTime": {
     "end_time": "2024-11-04T11:44:00.296726Z",
     "start_time": "2024-11-04T11:44:00.292727Z"
    }
   },
   "cell_type": "code",
   "source": [
    "# новые названия типов автомобилей\n",
    "NEW_TYPE_NAMES = ['minivan', 'SUV', 'sedan', 'hatchback', 'minibus', 'fastback', 'estate', 'pickup', 'convertible', 'sports']"
   ],
   "id": "b5eb80ff8f741341",
   "outputs": [],
   "execution_count": 9
  },
  {
   "metadata": {
    "ExecuteTime": {
     "end_time": "2024-11-04T11:44:00.313638Z",
     "start_time": "2024-11-04T11:44:00.310238Z"
    }
   },
   "cell_type": "code",
   "source": [
    "# список для конвертации типов автомобилей\n",
    "OLD_TO_NEW_TYPES = [0, 1, 2, 3, 4, 5, 6, 7, 8, 9, 10, 2, 9]"
   ],
   "id": "b957bc442698a7a5",
   "outputs": [],
   "execution_count": 10
  },
  {
   "metadata": {
    "ExecuteTime": {
     "end_time": "2024-11-04T11:44:00.480044Z",
     "start_time": "2024-11-04T11:44:00.325893Z"
    }
   },
   "cell_type": "code",
   "source": [
    "# изначальное распределение по типам кузова\n",
    "df.groupby('type').size().plot(kind='bar')"
   ],
   "id": "1cac316e93740c72",
   "outputs": [
    {
     "data": {
      "text/plain": [
       "<Axes: xlabel='type'>"
      ]
     },
     "execution_count": 11,
     "metadata": {},
     "output_type": "execute_result"
    },
    {
     "data": {
      "text/plain": [
       "<Figure size 640x480 with 1 Axes>"
      ],
      "image/png": "[encoded data removed]"
     },
     "metadata": {},
     "output_type": "display_data"
    }
   ],
   "execution_count": 11
  },
  {
   "metadata": {
    "ExecuteTime": {
     "end_time": "2024-11-04T11:44:00.514534Z",
     "start_time": "2024-11-04T11:44:00.499302Z"
    }
   },
   "cell_type": "code",
   "source": [
    "# удаление автомобилей без данных о типе\n",
    "df = df.drop(df[df['type'] == 0].index)"
   ],
   "id": "305e14ae1292ac4e",
   "outputs": [],
   "execution_count": 12
  },
  {
   "metadata": {
    "ExecuteTime": {
     "end_time": "2024-11-04T11:44:01.101987Z",
     "start_time": "2024-11-04T11:44:00.548600Z"
    }
   },
   "cell_type": "code",
   "source": [
    "# конвертация типов\n",
    "df['type'] = df.apply(lambda row: OLD_TO_NEW_TYPES[row['type']], axis=1)"
   ],
   "id": "853e27bdfc8a0458",
   "outputs": [],
   "execution_count": 13
  },
  {
   "metadata": {
    "ExecuteTime": {
     "end_time": "2024-11-04T11:44:01.612176Z",
     "start_time": "2024-11-04T11:44:01.136171Z"
    }
   },
   "cell_type": "code",
   "source": [
    "# добавление названий типов\n",
    "df['type_name'] = df.apply(lambda row: NEW_TYPE_NAMES[row['type'] - 1], axis=1)"
   ],
   "id": "a17c9ec44b6ce76c",
   "outputs": [],
   "execution_count": 14
  },
  {
   "metadata": {
    "ExecuteTime": {
     "end_time": "2024-11-04T11:44:01.633230Z",
     "start_time": "2024-11-04T11:44:01.624330Z"
    }
   },
   "cell_type": "code",
   "source": "df.head()",
   "id": "e28380716edfad36",
   "outputs": [
    {
     "data": {
      "text/plain": [
       "                                             file_path   x1   y1   x2   y2  \\\n",
       "149  ..\\data\\CompCars\\data\\image\\100\\209\\2009\\0ff9e...   95   85  817  626   \n",
       "150  ..\\data\\CompCars\\data\\image\\100\\209\\2009\\10359...  223  163  704  548   \n",
       "151  ..\\data\\CompCars\\data\\image\\100\\209\\2009\\1cb89...   95  100  849  606   \n",
       "152  ..\\data\\CompCars\\data\\image\\100\\209\\2009\\35bc7...   54  137  837  613   \n",
       "153  ..\\data\\CompCars\\data\\image\\100\\209\\2009\\398aa...   96  203  794  531   \n",
       "\n",
       "     type type_name  \n",
       "149     1   minivan  \n",
       "150     1   minivan  \n",
       "151     1   minivan  \n",
       "152     1   minivan  \n",
       "153     1   minivan  "
      ],
      "text/html": [
       "<div>\n",
       "<style scoped>\n",
       "    .dataframe tbody tr th:only-of-type {\n",
       "        vertical-align: middle;\n",
       "    }\n",
       "\n",
       "    .dataframe tbody tr th {\n",
       "        vertical-align: top;\n",
       "    }\n",
       "\n",
       "    .dataframe thead th {\n",
       "        text-align: right;\n",
       "    }\n",
       "</style>\n",
       "<table border=\"1\" class=\"dataframe\">\n",
       "  <thead>\n",
       "    <tr style=\"text-align: right;\">\n",
       "      <th></th>\n",
       "      <th>file_path</th>\n",
       "      <th>x1</th>\n",
       "      <th>y1</th>\n",
       "      <th>x2</th>\n",
       "      <th>y2</th>\n",
       "      <th>type</th>\n",
       "      <th>type_name</th>\n",
       "    </tr>\n",
       "  </thead>\n",
       "  <tbody>\n",
       "    <tr>\n",
       "      <th>149</th>\n",
       "      <td>..\\data\\CompCars\\data\\image\\100\\209\\2009\\0ff9e...</td>\n",
       "      <td>95</td>\n",
       "      <td>85</td>\n",
       "      <td>817</td>\n",
       "      <td>626</td>\n",
       "      <td>1</td>\n",
       "      <td>minivan</td>\n",
       "    </tr>\n",
       "    <tr>\n",
       "      <th>150</th>\n",
       "      <td>..\\data\\CompCars\\data\\image\\100\\209\\2009\\10359...</td>\n",
       "      <td>223</td>\n",
       "      <td>163</td>\n",
       "      <td>704</td>\n",
       "      <td>548</td>\n",
       "      <td>1</td>\n",
       "      <td>minivan</td>\n",
       "    </tr>\n",
       "    <tr>\n",
       "      <th>151</th>\n",
       "      <td>..\\data\\CompCars\\data\\image\\100\\209\\2009\\1cb89...</td>\n",
       "      <td>95</td>\n",
       "      <td>100</td>\n",
       "      <td>849</td>\n",
       "      <td>606</td>\n",
       "      <td>1</td>\n",
       "      <td>minivan</td>\n",
       "    </tr>\n",
       "    <tr>\n",
       "      <th>152</th>\n",
       "      <td>..\\data\\CompCars\\data\\image\\100\\209\\2009\\35bc7...</td>\n",
       "      <td>54</td>\n",
       "      <td>137</td>\n",
       "      <td>837</td>\n",
       "      <td>613</td>\n",
       "      <td>1</td>\n",
       "      <td>minivan</td>\n",
       "    </tr>\n",
       "    <tr>\n",
       "      <th>153</th>\n",
       "      <td>..\\data\\CompCars\\data\\image\\100\\209\\2009\\398aa...</td>\n",
       "      <td>96</td>\n",
       "      <td>203</td>\n",
       "      <td>794</td>\n",
       "      <td>531</td>\n",
       "      <td>1</td>\n",
       "      <td>minivan</td>\n",
       "    </tr>\n",
       "  </tbody>\n",
       "</table>\n",
       "</div>"
      ]
     },
     "execution_count": 15,
     "metadata": {},
     "output_type": "execute_result"
    }
   ],
   "execution_count": 15
  },
  {
   "metadata": {},
   "cell_type": "markdown",
   "source": [
    "### 4. EDA\n",
    "#### 4.1 Анализ числа объектов по классам"
   ],
   "id": "4ec0a17b49ab59ff"
  },
  {
   "metadata": {
    "ExecuteTime": {
     "end_time": "2024-11-04T11:44:01.696848Z",
     "start_time": "2024-11-04T11:44:01.678975Z"
    }
   },
   "cell_type": "code",
   "source": [
    "# вычисление распределений автомобилей по классам\n",
    "df.groupby('type_name').agg({'type_name': 'count'})"
   ],
   "id": "f7ddd441d2cb1869",
   "outputs": [
    {
     "data": {
      "text/plain": [
       "             type_name\n",
       "type_name             \n",
       "SUV              22752\n",
       "convertible       3520\n",
       "estate            1215\n",
       "fastback          2473\n",
       "hatchback        16573\n",
       "minibus           4729\n",
       "minivan           6149\n",
       "pickup            2134\n",
       "sedan            32274\n",
       "sports            6023"
      ],
      "text/html": [
       "<div>\n",
       "<style scoped>\n",
       "    .dataframe tbody tr th:only-of-type {\n",
       "        vertical-align: middle;\n",
       "    }\n",
       "\n",
       "    .dataframe tbody tr th {\n",
       "        vertical-align: top;\n",
       "    }\n",
       "\n",
       "    .dataframe thead th {\n",
       "        text-align: right;\n",
       "    }\n",
       "</style>\n",
       "<table border=\"1\" class=\"dataframe\">\n",
       "  <thead>\n",
       "    <tr style=\"text-align: right;\">\n",
       "      <th></th>\n",
       "      <th>type_name</th>\n",
       "    </tr>\n",
       "    <tr>\n",
       "      <th>type_name</th>\n",
       "      <th></th>\n",
       "    </tr>\n",
       "  </thead>\n",
       "  <tbody>\n",
       "    <tr>\n",
       "      <th>SUV</th>\n",
       "      <td>22752</td>\n",
       "    </tr>\n",
       "    <tr>\n",
       "      <th>convertible</th>\n",
       "      <td>3520</td>\n",
       "    </tr>\n",
       "    <tr>\n",
       "      <th>estate</th>\n",
       "      <td>1215</td>\n",
       "    </tr>\n",
       "    <tr>\n",
       "      <th>fastback</th>\n",
       "      <td>2473</td>\n",
       "    </tr>\n",
       "    <tr>\n",
       "      <th>hatchback</th>\n",
       "      <td>16573</td>\n",
       "    </tr>\n",
       "    <tr>\n",
       "      <th>minibus</th>\n",
       "      <td>4729</td>\n",
       "    </tr>\n",
       "    <tr>\n",
       "      <th>minivan</th>\n",
       "      <td>6149</td>\n",
       "    </tr>\n",
       "    <tr>\n",
       "      <th>pickup</th>\n",
       "      <td>2134</td>\n",
       "    </tr>\n",
       "    <tr>\n",
       "      <th>sedan</th>\n",
       "      <td>32274</td>\n",
       "    </tr>\n",
       "    <tr>\n",
       "      <th>sports</th>\n",
       "      <td>6023</td>\n",
       "    </tr>\n",
       "  </tbody>\n",
       "</table>\n",
       "</div>"
      ]
     },
     "execution_count": 16,
     "metadata": {},
     "output_type": "execute_result"
    }
   ],
   "execution_count": 16
  },
  {
   "metadata": {
    "ExecuteTime": {
     "end_time": "2024-11-04T11:44:01.749985Z",
     "start_time": "2024-11-04T11:44:01.746331Z"
    }
   },
   "cell_type": "code",
   "source": [
    "# общее число изображений\n",
    "len(df)"
   ],
   "id": "c24de663e0938957",
   "outputs": [
    {
     "data": {
      "text/plain": [
       "97842"
      ]
     },
     "execution_count": 17,
     "metadata": {},
     "output_type": "execute_result"
    }
   ],
   "execution_count": 17
  },
  {
   "metadata": {
    "ExecuteTime": {
     "end_time": "2024-11-04T11:44:01.973939Z",
     "start_time": "2024-11-04T11:44:01.862196Z"
    }
   },
   "cell_type": "code",
   "source": [
    "# визуализация распределений автомобилей по классам\n",
    "df.groupby('type_name').size().plot(kind='bar')"
   ],
   "id": "efcef9019d8fde47",
   "outputs": [
    {
     "data": {
      "text/plain": [
       "<Axes: xlabel='type_name'>"
      ]
     },
     "execution_count": 18,
     "metadata": {},
     "output_type": "execute_result"
    },
    {
     "data": {
      "text/plain": [
       "<Figure size 640x480 with 1 Axes>"
      ],
      "image/png": "[encoded data removed]"
     },
     "metadata": {},
     "output_type": "display_data"
    }
   ],
   "execution_count": 18
  },
  {
   "metadata": {},
   "cell_type": "markdown",
   "source": "#### 4.2 Анализ размера bounding box'ов",
   "id": "86d88121fb1e0ed6"
  },
  {
   "metadata": {
    "ExecuteTime": {
     "end_time": "2024-11-04T11:44:02.319935Z",
     "start_time": "2024-11-04T11:44:02.000933Z"
    }
   },
   "cell_type": "code",
   "source": [
    "df['bbox_width'] = df['x2'] - df['x1']\n",
    "df['bbox_height'] = df['y2'] - df['y1']\n",
    "\n",
    "plt.figure(figsize=(12, 6))\n",
    "\n",
    "plt.subplot(1, 2, 1)\n",
    "plt.hist(df['bbox_width'], bins=30, edgecolor='black')\n",
    "plt.title(\"Распределение ширины bounding box'ов\")\n",
    "plt.xlabel('Ширина (пиксели)')\n",
    "plt.ylabel('Число изображений')\n",
    "\n",
    "plt.subplot(1, 2, 2)\n",
    "plt.hist(df['bbox_height'], bins=30, edgecolor='black')\n",
    "plt.title(\"Распределение высоты bounding box'ов\")\n",
    "plt.xlabel('Высота (пиксели)')\n",
    "plt.ylabel('Число изображений')\n",
    "\n",
    "plt.tight_layout()\n",
    "plt.show()"
   ],
   "id": "7df6ad5b922798b",
   "outputs": [
    {
     "data": {
      "text/plain": [
       "<Figure size 1200x600 with 2 Axes>"
      ],
      "image/png": "[encoded data removed]"
     },
     "metadata": {},
     "output_type": "display_data"
    }
   ],
   "execution_count": 19
  }
 ],
 "metadata": {
  "kernelspec": {
   "display_name": "Python 3",
   "language": "python",
   "name": "python3"
  },
  "language_info": {
   "codemirror_mode": {
    "name": "ipython",
    "version": 2
   },
   "file_extension": ".py",
   "mimetype": "text/x-python",
   "name": "python",
   "nbconvert_exporter": "python",
   "pygments_lexer": "ipython2",
   "version": "2.7.6"
  }
 },
 "nbformat": 4,
 "nbformat_minor": 5
}
